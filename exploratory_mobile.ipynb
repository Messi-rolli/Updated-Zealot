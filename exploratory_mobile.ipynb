{
 "cells": [
  {
   "cell_type": "code",
   "execution_count": null,
   "id": "cac09f01",
   "metadata": {},
   "outputs": [],
   "source": [
    "import pygame\n",
    "import time\n",
    "\n",
    "pygame.mixer.init()\n",
    "sound = pygame.mixer.Sound('resources/music.wav')\n",
    "sound.play(loops=-1)\n",
    "print(\"Sound playing for 5 seconds...\")\n",
    "time.sleep(5)\n",
    "sound.stop()\n",
    "pygame.mixer.quit()\n"
   ]
  }
 ],
 "metadata": {
  "kernelspec": {
   "display_name": "drow_env (3.13.2)",
   "language": "python",
   "name": "python3"
  },
  "language_info": {
   "name": "python",
   "version": "3.13.2"
  }
 },
 "nbformat": 4,
 "nbformat_minor": 5
}
